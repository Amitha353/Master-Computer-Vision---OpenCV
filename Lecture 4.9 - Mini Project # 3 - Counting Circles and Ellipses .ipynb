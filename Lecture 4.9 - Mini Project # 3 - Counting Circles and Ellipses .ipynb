{
 "cells": [
  {
   "cell_type": "markdown",
   "metadata": {},
   "source": [
    "## Mini Project # 3 - Counting Circles and Ellipses "
   ]
  },
  {
   "cell_type": "code",
   "execution_count": null,
   "metadata": {
    "collapsed": false
   },
   "outputs": [],
   "source": [
    "import cv2\n",
    "import numpy as np\n",
    "\n",
    "# Load image\n",
    "image = cv2.imread(\"images/blobs.jpg\", 0)\n",
    "cv2.imshow('Original Image',image)\n",
    "cv2.waitKey(0)\n",
    "\n",
    "# Intialize the detector using the default parameters\n",
    "detector = cv2.SimpleBlobDetector()\n",
    " \n",
    "# Detect blobs\n",
    "keypoints = detector.detect(image)\n",
    " \n",
    "# Draw blobs on our image as red circles\n",
    "blank = np.zeros((1,1)) \n",
    "blobs = cv2.drawKeypoints(image, keypoints, blank, (0,0,255),\n",
    "                                      cv2.DRAW_MATCHES_FLAGS_DRAW_RICH_KEYPOINTS)\n",
    "\n",
    "number_of_blobs = len(keypoints)\n",
    "text = \"Total Number of Blobs: \" + str(len(keypoints))\n",
    "cv2.putText(blobs, text, (20, 550), cv2.FONT_HERSHEY_SIMPLEX, 1, (100, 0, 255), 2)\n",
    "\n",
    "# Display image with blob keypoints\n",
    "cv2.imshow(\"Blobs using default parameters\", blobs)\n",
    "cv2.waitKey(0)\n",
    "\n",
    "\n",
    "# Set our filtering parameters\n",
    "# Initialize parameter settiing using cv2.SimpleBlobDetector\n",
    "params = cv2.SimpleBlobDetector_Params()\n",
    "\n",
    "# Set Area filtering parameters\n",
    "params.filterByArea = True\n",
    "params.minArea = 100\n",
    "\n",
    "# Set Circularity filtering parameters\n",
    "params.filterByCircularity = True \n",
    "params.minCircularity = 0.9\n",
    "\n",
    "# Set Convexity filtering parameters\n",
    "params.filterByConvexity = False\n",
    "params.minConvexity = 0.2\n",
    "    \n",
    "# Set inertia filtering parameters\n",
    "params.filterByInertia = True\n",
    "params.minInertiaRatio = 0.01\n",
    "\n",
    "# Create a detector with the parameters\n",
    "detector = cv2.SimpleBlobDetector(params)\n",
    "    \n",
    "# Detect blobs\n",
    "keypoints = detector.detect(image)\n",
    "\n",
    "# Draw blobs on our image as red circles\n",
    "blank = np.zeros((1,1)) \n",
    "blobs = cv2.drawKeypoints(image, keypoints, blank, (0,255,0),\n",
    "                                      cv2.DRAW_MATCHES_FLAGS_DRAW_RICH_KEYPOINTS)\n",
    "\n",
    "number_of_blobs = len(keypoints)\n",
    "text = \"Number of Circular Blobs: \" + str(len(keypoints))\n",
    "cv2.putText(blobs, text, (20, 550), cv2.FONT_HERSHEY_SIMPLEX, 1, (0, 100, 255), 2)\n",
    "\n",
    "# Show blobs\n",
    "cv2.imshow(\"Filtering Circular Blobs Only\", blobs)\n",
    "cv2.waitKey(0)\n",
    "cv2.destroyAllWindows()"
   ]
  },
  {
   "cell_type": "code",
   "execution_count": null,
   "metadata": {
    "collapsed": true
   },
   "outputs": [],
   "source": []
  },
  {
   "cell_type": "code",
   "execution_count": null,
   "metadata": {
    "collapsed": false
   },
   "outputs": [],
   "source": []
  },
  {
   "cell_type": "markdown",
   "metadata": {},
   "source": [
    "**NOTE** OpenCV 3.XX, use this line of code for intializing our blob detector\n",
    "\n",
    "`detector = cv2.SimpleBlobDetector_create(params)`\n",
    "\n",
    "OpenCV 2.4.X users use this:\n",
    "\n",
    "`detector = cv2.SimpleBlobDetector()`"
   ]
  },
  {
   "cell_type": "code",
   "execution_count": null,
   "metadata": {
    "collapsed": true
   },
   "outputs": [],
   "source": []
  },
  {
   "cell_type": "code",
   "execution_count": null,
   "metadata": {
    "collapsed": true
   },
   "outputs": [],
   "source": []
  },
  {
   "cell_type": "code",
   "execution_count": null,
   "metadata": {
    "collapsed": true
   },
   "outputs": [],
   "source": []
  },
  {
   "cell_type": "code",
   "execution_count": null,
   "metadata": {
    "collapsed": true
   },
   "outputs": [],
   "source": []
  }
 ],
 "metadata": {
  "kernelspec": {
   "display_name": "Python 2",
   "language": "python",
   "name": "python2"
  },
  "language_info": {
   "codemirror_mode": {
    "name": "ipython",
    "version": 2
   },
   "file_extension": ".py",
   "mimetype": "text/x-python",
   "name": "python",
   "nbconvert_exporter": "python",
   "pygments_lexer": "ipython2",
   "version": "2.7.13"
  }
 },
 "nbformat": 4,
 "nbformat_minor": 0
}
