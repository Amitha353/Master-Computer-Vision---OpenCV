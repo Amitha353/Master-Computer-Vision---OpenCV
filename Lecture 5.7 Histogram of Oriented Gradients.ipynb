{
 "cells": [
  {
   "cell_type": "markdown",
   "metadata": {},
   "source": [
    "## Histogram of Oriented Gradients\n",
    "\n",
    "- http://stackoverflow.com/questions/6090399/get-hog-image-features-from-opencv-python\n",
    "- http://www.juergenwiki.de/work/wiki/doku.php?id=public:hog_descriptor_computation_and_visualization"
   ]
  },
  {
   "cell_type": "code",
   "execution_count": 2,
   "metadata": {
    "collapsed": false
   },
   "outputs": [],
   "source": [
    "import numpy as np\n",
    "import cv2\n",
    "import matplotlib.pyplot as plt\n",
    "\n",
    "# Load image then grayscale\n",
    "image = cv2.imread('images/elephant.jpg')\n",
    "gray = cv2.cvtColor(image, cv2.COLOR_BGR2GRAY)\n",
    "\n",
    "# Show original Image\n",
    "cv2.imshow('Input Image', image)\n",
    "cv2.waitKey(0)\n",
    "\n",
    "# h x w in pixels\n",
    "cell_size = (8, 8) \n",
    "\n",
    " # h x w in cells\n",
    "block_size = (2, 2) \n",
    "\n",
    "# number of orientation bins\n",
    "nbins = 9\n",
    "\n",
    "# Using OpenCV's HOG Descriptor\n",
    "# winSize is the size of the image cropped to a multiple of the cell size\n",
    "hog = cv2.HOGDescriptor(_winSize=(gray.shape[1] // cell_size[1] * cell_size[1],\n",
    "                                  gray.shape[0] // cell_size[0] * cell_size[0]),\n",
    "                        _blockSize=(block_size[1] * cell_size[1],\n",
    "                                    block_size[0] * cell_size[0]),\n",
    "                        _blockStride=(cell_size[1], cell_size[0]),\n",
    "                        _cellSize=(cell_size[1], cell_size[0]),\n",
    "                        _nbins=nbins)\n",
    "\n",
    "# Create numpy array shape which we use to create hog_feats\n",
    "n_cells = (gray.shape[0] // cell_size[0], gray.shape[1] // cell_size[1])\n",
    "\n",
    "# We index blocks by rows first.\n",
    "# hog_feats now contains the gradient amplitudes for each direction,\n",
    "# for each cell of its group for each group. Indexing is by rows then columns.\n",
    "hog_feats = hog.compute(gray).reshape(n_cells[1] - block_size[1] + 1,\n",
    "                        n_cells[0] - block_size[0] + 1,\n",
    "                        block_size[0], block_size[1], nbins).transpose((1, 0, 2, 3, 4))  \n",
    "\n",
    "# Create our gradients array with nbin dimensions to store gradient orientations \n",
    "gradients = np.zeros((n_cells[0], n_cells[1], nbins))\n",
    "\n",
    "# Create array of dimensions \n",
    "cell_count = np.full((n_cells[0], n_cells[1], 1), 0, dtype=int)\n",
    "\n",
    "# Block Normalization\n",
    "for off_y in range(block_size[0]):\n",
    "    for off_x in range(block_size[1]):\n",
    "        gradients[off_y:n_cells[0] - block_size[0] + off_y + 1,\n",
    "                  off_x:n_cells[1] - block_size[1] + off_x + 1] += \\\n",
    "            hog_feats[:, :, off_y, off_x, :]\n",
    "        cell_count[off_y:n_cells[0] - block_size[0] + off_y + 1,\n",
    "                   off_x:n_cells[1] - block_size[1] + off_x + 1] += 1\n",
    "\n",
    "# Average gradients\n",
    "gradients /= cell_count\n",
    "\n",
    "# Plot HOGs using Matplotlib\n",
    "# angle is 360 / nbins * direction\n",
    "color_bins = 5\n",
    "plt.pcolor(gradients[:, :, color_bins])\n",
    "plt.gca().invert_yaxis()\n",
    "plt.gca().set_aspect('equal', adjustable='box')\n",
    "plt.colorbar()\n",
    "plt.show()\n",
    "cv2.destroyAllWindows()"
   ]
  },
  {
   "cell_type": "code",
   "execution_count": null,
   "metadata": {
    "collapsed": true
   },
   "outputs": [],
   "source": []
  },
  {
   "cell_type": "code",
   "execution_count": null,
   "metadata": {
    "collapsed": true
   },
   "outputs": [],
   "source": []
  }
 ],
 "metadata": {
  "kernelspec": {
   "display_name": "Python 2",
   "language": "python",
   "name": "python2"
  },
  "language_info": {
   "codemirror_mode": {
    "name": "ipython",
    "version": 2
   },
   "file_extension": ".py",
   "mimetype": "text/x-python",
   "name": "python",
   "nbconvert_exporter": "python",
   "pygments_lexer": "ipython2",
   "version": "2.7.11"
  }
 },
 "nbformat": 4,
 "nbformat_minor": 0
}
