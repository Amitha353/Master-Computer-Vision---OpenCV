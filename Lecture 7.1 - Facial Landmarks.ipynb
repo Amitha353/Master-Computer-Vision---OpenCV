{
 "cells": [
  {
   "cell_type": "markdown",
   "metadata": {},
   "source": [
    "## Facial Landmarks"
   ]
  },
  {
   "cell_type": "markdown",
   "metadata": {
    "collapsed": false
   },
   "source": [
    "-"
   ]
  },
  {
   "cell_type": "markdown",
   "metadata": {},
   "source": [
    "See blog post here - https://matthewearl.github.io/2015/07/28/switching-eds-with-python/\n",
    "\n",
    "\n",
    "#### Install Instructions for dlib\n",
    "\n",
    "- Download and Install Dlib\n",
    "\n",
    "https://sourceforge.net/projects/dclib/\n",
    "\n",
    "- Extract files in C:/dlib \n",
    "- Use command prompt to Cd to folder and run “python setup.py install”\n",
    "\n",
    "#### Try this - incase the above doesn't work:\n",
    "* https://cmake.org/download/ -> cmake-3.12.2-win64-x64.msi\n",
    "* conda install -c menpo dlib=18.18\n",
    "\n",
    "#### Download the pre-trained model here \n",
    "\n",
    "http://dlib.net/files/shape_predictor_68_face_landmarks.dat.bz2\n",
    "\n",
    "- Place this file in your default ipython notebook folder\n"
   ]
  },
  {
   "cell_type": "code",
   "execution_count": 2,
   "metadata": {
    "collapsed": false
   },
   "outputs": [],
   "source": [
    "import cv2\n",
    "import dlib\n",
    "import numpy \n",
    "\n",
    "PREDICTOR_PATH = \"shape_predictor_68_face_landmarks.dat\"\n",
    "predictor = dlib.shape_predictor(PREDICTOR_PATH)\n",
    "detector = dlib.get_frontal_face_detector()\n",
    "\n",
    "\n",
    "class TooManyFaces(Exception):\n",
    "    pass\n",
    "\n",
    "class NoFaces(Exception):\n",
    "    pass\n",
    "\n",
    "def get_landmarks(im):\n",
    "    rects = detector(im, 1)\n",
    "\n",
    "    if len(rects) > 1:\n",
    "        raise TooManyFaces\n",
    "    if len(rects) == 0:\n",
    "        raise NoFaces\n",
    "\n",
    "    return numpy.matrix([[p.x, p.y] for p in predictor(im, rects[0]).parts()])\n",
    "\n",
    "def annotate_landmarks(im, landmarks):\n",
    "    im = im.copy()\n",
    "    for idx, point in enumerate(landmarks):\n",
    "        pos = (point[0, 0], point[0, 1])\n",
    "        cv2.putText(im, str(idx), pos,\n",
    "                    fontFace=cv2.FONT_HERSHEY_SCRIPT_SIMPLEX,\n",
    "                    fontScale=0.4,\n",
    "                    \n",
    "                    color=(0, 0, 255))\n",
    "        cv2.circle(im, pos, 3, color=(0, 255, 255))\n",
    "    return im\n",
    "\n",
    "#image = cv2.imread('images/myself.jpg')\n",
    "#image = cv2.imread('images/us.jpg')\n",
    "image = cv2.imread('images/Obama.jpg')\n",
    "#image = cv2.imread('images/Trump.jpg')\n",
    "landmarks = get_landmarks(image)\n",
    "image_with_landmarks = annotate_landmarks(image, landmarks)\n",
    "\n",
    "cv2.imshow('Result', image_with_landmarks)\n",
    "cv2.imwrite('image_with_landmarks.jpg',image_with_landmarks)\n",
    "cv2.waitKey(0)\n",
    "cv2.destroyAllWindows()"
   ]
  },
  {
   "cell_type": "markdown",
   "metadata": {
    "collapsed": true
   },
   "source": []
  },
  {
   "cell_type": "code",
   "execution_count": null,
   "metadata": {
    "collapsed": true
   },
   "outputs": [],
   "source": []
  }
 ],
 "metadata": {
  "kernelspec": {
   "display_name": "Python 2",
   "language": "python",
   "name": "python2"
  },
  "language_info": {
   "codemirror_mode": {
    "name": "ipython",
    "version": 2
   },
   "file_extension": ".py",
   "mimetype": "text/x-python",
   "name": "python",
   "nbconvert_exporter": "python",
   "pygments_lexer": "ipython2",
   "version": "2.7.13"
  }
 },
 "nbformat": 4,
 "nbformat_minor": 0
}
