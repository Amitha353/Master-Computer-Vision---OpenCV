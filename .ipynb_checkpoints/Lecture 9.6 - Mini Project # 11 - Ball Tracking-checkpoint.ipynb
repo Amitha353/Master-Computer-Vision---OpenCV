{
 "cells": [
  {
   "cell_type": "markdown",
   "metadata": {},
   "source": [
    "## Mini Project # 10 - Object Tracking"
   ]
  },
  {
   "cell_type": "code",
   "execution_count": 3,
   "metadata": {
    "collapsed": false
   },
   "outputs": [
    {
     "ename": "error",
     "evalue": "C:\\builds\\master_PackSlaveAddon-win64-vc12-static\\opencv\\modules\\imgproc\\src\\color.cpp:7646: error: (-215) (scn == 3 || scn == 4) && (depth == CV_8U || depth == CV_32F) in function cv::ipp_cvtColor\n",
     "output_type": "error",
     "traceback": [
      "\u001b[1;31m---------------------------------------------------------------------------\u001b[0m",
      "\u001b[1;31merror\u001b[0m                                     Traceback (most recent call last)",
      "\u001b[1;32m<ipython-input-3-a719e98d2f79>\u001b[0m in \u001b[0;36m<module>\u001b[1;34m()\u001b[0m\n\u001b[0;32m     23\u001b[0m     \u001b[1;31m# Capture webcame frame\u001b[0m\u001b[1;33m\u001b[0m\u001b[1;33m\u001b[0m\u001b[0m\n\u001b[0;32m     24\u001b[0m     \u001b[0mret\u001b[0m\u001b[1;33m,\u001b[0m \u001b[0mframe\u001b[0m \u001b[1;33m=\u001b[0m \u001b[0mcap\u001b[0m\u001b[1;33m.\u001b[0m\u001b[0mread\u001b[0m\u001b[1;33m(\u001b[0m\u001b[1;33m)\u001b[0m\u001b[1;33m\u001b[0m\u001b[0m\n\u001b[1;32m---> 25\u001b[1;33m     \u001b[0mhsv_img\u001b[0m \u001b[1;33m=\u001b[0m \u001b[0mcv2\u001b[0m\u001b[1;33m.\u001b[0m\u001b[0mcvtColor\u001b[0m\u001b[1;33m(\u001b[0m\u001b[0mframe\u001b[0m\u001b[1;33m,\u001b[0m \u001b[0mcv2\u001b[0m\u001b[1;33m.\u001b[0m\u001b[0mCOLOR_BGR2HSV\u001b[0m\u001b[1;33m)\u001b[0m\u001b[1;33m\u001b[0m\u001b[0m\n\u001b[0m\u001b[0;32m     26\u001b[0m \u001b[1;33m\u001b[0m\u001b[0m\n\u001b[0;32m     27\u001b[0m     \u001b[1;31m# Threshold the HSV image to get only blue colors\u001b[0m\u001b[1;33m\u001b[0m\u001b[1;33m\u001b[0m\u001b[0m\n",
      "\u001b[1;31merror\u001b[0m: C:\\builds\\master_PackSlaveAddon-win64-vc12-static\\opencv\\modules\\imgproc\\src\\color.cpp:7646: error: (-215) (scn == 3 || scn == 4) && (depth == CV_8U || depth == CV_32F) in function cv::ipp_cvtColor\n"
     ]
    }
   ],
   "source": [
    "#Object Tracking\n",
    "import cv2\n",
    "import numpy as np\n",
    "\n",
    "# Initalize camera\n",
    "cap = cv2.VideoCapture(0)\n",
    "\n",
    "# define range of purple color in HSV\n",
    "lower_purple = np.array([130,50,90])\n",
    "upper_purple = np.array([170,255,255])\n",
    "\n",
    "# Create empty points array\n",
    "points = []\n",
    "\n",
    "# Get default camera window size\n",
    "ret, frame = cap.read()\n",
    "Height, Width = frame.shape[:2]\n",
    "frame_count = 0\n",
    "\n",
    "while True:\n",
    "\n",
    "    # Capture webcame frame\n",
    "    ret, frame = cap.read()\n",
    "    hsv_img = cv2.cvtColor(frame, cv2.COLOR_BGR2HSV)\n",
    "\n",
    "    # Threshold the HSV image to get only blue colors\n",
    "    mask = cv2.inRange(hsv_img, lower_purple, upper_purple)\n",
    "    #mask = cv2.morphologyEx(mask, cv2.MORPH_OPEN, kernel)\n",
    "    \n",
    "    # Find contours, OpenCV 3.X users use this line instead\n",
    "    _, contours, _ = cv2.findContours(mask.copy(), cv2.RETR_EXTERNAL, cv2.CHAIN_APPROX_SIMPLE)\n",
    "    # contours, _ = cv2.findContours(mask.copy(), cv2.RETR_EXTERNAL, cv2.CHAIN_APPROX_SIMPLE)\n",
    "    \n",
    "    # Create empty centre array to store centroid center of mass\n",
    "    center =   int(Height/2), int(Width/2)\n",
    "\n",
    "    if len(contours) > 0:\n",
    "        \n",
    "        # Get the largest contour and its center \n",
    "        c = max(contours, key=cv2.contourArea)\n",
    "        (x, y), radius = cv2.minEnclosingCircle(c)\n",
    "        M = cv2.moments(c)\n",
    "        try:\n",
    "            center = (int(M[\"m10\"] / M[\"m00\"]), int(M[\"m01\"] / M[\"m00\"]))\n",
    "\n",
    "        except:\n",
    "            center =   int(Height/2), int(Width/2)\n",
    "\n",
    "        # Allow only countors that have a larger than 15 pixel radius\n",
    "        if radius > 25:\n",
    "            \n",
    "            # Draw cirlce and leave the last center creating a trail\n",
    "            cv2.circle(frame, (int(x), int(y)), int(radius),(0, 0, 255), 2)\n",
    "            cv2.circle(frame, center, 5, (0, 255, 0), -1)\n",
    "            \n",
    "    # Log center points \n",
    "    points.append(center)\n",
    "    \n",
    "    # loop over the set of tracked points\n",
    "    if radius > 25:\n",
    "        for i in range(1, len(points)):\n",
    "            try:\n",
    "                cv2.line(frame, points[i - 1], points[i], (0, 255, 0), 2)\n",
    "            except:\n",
    "                pass\n",
    "            \n",
    "        # Make frame count zero\n",
    "        frame_count = 0\n",
    "    else:\n",
    "        # Count frames \n",
    "        frame_count += 1\n",
    "        \n",
    "        # If we count 10 frames without object lets delete our trail\n",
    "        if frame_count == 10:\n",
    "            points = []\n",
    "            # when frame_count reaches 20 let's clear our trail \n",
    "            frame_count = 0\n",
    "            \n",
    "    # Display our object tracker\n",
    "    frame = cv2.flip(frame, 1)\n",
    "    cv2.imshow(\"Object Tracker\", frame)\n",
    "\n",
    "    if cv2.waitKey(1) == 13: #13 is the Enter Key\n",
    "        break\n",
    "\n",
    "# Release camera and close any open windows\n",
    "cap.release()\n",
    "cv2.destroyAllWindows()"
   ]
  },
  {
   "cell_type": "code",
   "execution_count": null,
   "metadata": {
    "collapsed": false
   },
   "outputs": [],
   "source": []
  }
 ],
 "metadata": {
  "kernelspec": {
   "display_name": "Python 2",
   "language": "python",
   "name": "python2"
  },
  "language_info": {
   "codemirror_mode": {
    "name": "ipython",
    "version": 2
   },
   "file_extension": ".py",
   "mimetype": "text/x-python",
   "name": "python",
   "nbconvert_exporter": "python",
   "pygments_lexer": "ipython2",
   "version": "2.7.13"
  }
 },
 "nbformat": 4,
 "nbformat_minor": 0
}
