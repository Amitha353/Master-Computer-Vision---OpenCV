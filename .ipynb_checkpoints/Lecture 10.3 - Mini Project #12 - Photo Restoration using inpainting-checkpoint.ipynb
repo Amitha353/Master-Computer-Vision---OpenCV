{
 "cells": [
  {
   "cell_type": "markdown",
   "metadata": {},
   "source": [
    "## Photo Restoration using inpainting"
   ]
  },
  {
   "cell_type": "code",
   "execution_count": null,
   "metadata": {
    "collapsed": true
   },
   "outputs": [],
   "source": [
    "import cv2\n",
    "import numpy as np\n",
    "\n",
    "\n",
    "# Load our damaged photo\n",
    "image = cv2.imread('images/abraham.jpg')\n",
    "cv2.imshow('Original Damaged Photo', image)\n",
    "cv2.waitKey(0)\n",
    "\n",
    "# Load the photo where we've marked the damaged areas\n",
    "marked_damages = cv2.imread('images/mask.jpg', 0)\n",
    "cv2.imshow('Marked Damages', marked_damages)\n",
    "cv2.waitKey(0)\n",
    "\n",
    "# Let's make a mask out of our marked image be changing all colors \n",
    "# that are not white, to black\n",
    "ret, thresh1 = cv2.threshold(marked_damages, 254, 255, cv2.THRESH_BINARY)\n",
    "cv2.imshow('Threshold Binary', thresh1)\n",
    "cv2.waitKey(0)\n",
    "\n",
    "# Let's dilate (make thicker) our the marks w made\n",
    "# since thresholding has narrowed it slightly\n",
    "kernel = np.ones((7,7), np.uint8)\n",
    "mask = cv2.dilate(thresh1, kernel, iterations = 1)\n",
    "cv2.imshow('Dilated Mask', mask)\n",
    "cv2.imwrite(\"images/abraham_mask.png\", mask)\n",
    "\n",
    "cv2.waitKey(0)\n",
    "restored = cv2.inpaint(image, mask, 3, cv2.INPAINT_TELEA)\n",
    "\n",
    "cv2.imshow('Restored', restored)\n",
    "cv2.waitKey(0)\n",
    "cv2.destroyAllWindows()\n"
   ]
  },
  {
   "cell_type": "code",
   "execution_count": null,
   "metadata": {
    "collapsed": false
   },
   "outputs": [],
   "source": []
  },
  {
   "cell_type": "markdown",
   "metadata": {},
   "source": [
    "**Inpainting** is the process of reconstructing lost or deteriorated parts of images and videos. It is an advanced form of interpolation that can be used to replace lost or corrupted parts of the image data."
   ]
  },
  {
   "cell_type": "markdown",
   "metadata": {},
   "source": [
    "**cv2.inpaint**(input image, mask, inpaintRadius, Inpaint Method)\n",
    "\n",
    "**inpaintRadius** – Radius of a circular neighborhood of each point inpainted that is considered by the algorithm. Smaller values look less blurred, while larger values look more pixelated or blurred. \n",
    "\n",
    "**Inpaint Methods**\n",
    "- INPAINT_NS - Navier-Stokes based method [Navier01]\n",
    "- INPAINT_TELEA - Method by Alexandru Telea [Telea04] - Better as it integrates more seamlessley into the image."
   ]
  },
  {
   "cell_type": "code",
   "execution_count": null,
   "metadata": {
    "collapsed": true
   },
   "outputs": [],
   "source": []
  },
  {
   "cell_type": "code",
   "execution_count": null,
   "metadata": {
    "collapsed": true
   },
   "outputs": [],
   "source": []
  }
 ],
 "metadata": {
  "kernelspec": {
   "display_name": "Python 2",
   "language": "python",
   "name": "python2"
  },
  "language_info": {
   "codemirror_mode": {
    "name": "ipython",
    "version": 2
   },
   "file_extension": ".py",
   "mimetype": "text/x-python",
   "name": "python",
   "nbconvert_exporter": "python",
   "pygments_lexer": "ipython2",
   "version": "2.7.13"
  }
 },
 "nbformat": 4,
 "nbformat_minor": 0
}
